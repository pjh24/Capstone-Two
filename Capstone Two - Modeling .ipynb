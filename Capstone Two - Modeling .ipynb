{
 "cells": [
  {
   "cell_type": "code",
   "execution_count": 1,
   "id": "2047d6a4",
   "metadata": {},
   "outputs": [],
   "source": [
    "#Imports\n",
    "import pandas as pd \n",
    "import seaborn as sns\n",
    "import matplotlib.pyplot as plt \n",
    "import numpy as np \n",
    "from sklearn.preprocessing import StandardScaler\n",
    "from sklearn.model_selection import train_test_split\n",
    "from sklearn.linear_model import LinearRegression\n",
    "from sklearn.metrics import mean_squared_error"
   ]
  },
  {
   "cell_type": "code",
   "execution_count": 2,
   "id": "58cf8604",
   "metadata": {},
   "outputs": [],
   "source": [
    "from sklearn.metrics import mean_absolute_error, r2_score"
   ]
  },
  {
   "cell_type": "code",
   "execution_count": 3,
   "id": "4d27f3b6",
   "metadata": {},
   "outputs": [],
   "source": [
    "from sklearn.model_selection import cross_val_score, KFold"
   ]
  },
  {
   "cell_type": "code",
   "execution_count": 40,
   "id": "0b4a0290",
   "metadata": {},
   "outputs": [],
   "source": [
    "from sklearn.ensemble import RandomForestRegressor"
   ]
  },
  {
   "cell_type": "code",
   "execution_count": 66,
   "id": "54825afd",
   "metadata": {},
   "outputs": [],
   "source": [
    "from sklearn.model_selection import GridSearchCV"
   ]
  },
  {
   "cell_type": "code",
   "execution_count": 4,
   "id": "9e4e2aae",
   "metadata": {},
   "outputs": [],
   "source": [
    "#Read data\n",
    "soiYield = pd.read_csv('DATA/crop_yield_plus_soi.csv')"
   ]
  },
  {
   "cell_type": "code",
   "execution_count": 5,
   "id": "b3cceef9",
   "metadata": {},
   "outputs": [
    {
     "data": {
      "text/html": [
       "<div>\n",
       "<style scoped>\n",
       "    .dataframe tbody tr th:only-of-type {\n",
       "        vertical-align: middle;\n",
       "    }\n",
       "\n",
       "    .dataframe tbody tr th {\n",
       "        vertical-align: top;\n",
       "    }\n",
       "\n",
       "    .dataframe thead th {\n",
       "        text-align: right;\n",
       "    }\n",
       "</style>\n",
       "<table border=\"1\" class=\"dataframe\">\n",
       "  <thead>\n",
       "    <tr style=\"text-align: right;\">\n",
       "      <th></th>\n",
       "      <th>Year</th>\n",
       "      <th>Corn Yield</th>\n",
       "      <th>Cotton Yield</th>\n",
       "      <th>Rice Yield</th>\n",
       "      <th>Soybean Yield</th>\n",
       "      <th>Wheat Yield</th>\n",
       "      <th>Yield Units</th>\n",
       "      <th>DJFM Mean SOI</th>\n",
       "    </tr>\n",
       "  </thead>\n",
       "  <tbody>\n",
       "    <tr>\n",
       "      <th>0</th>\n",
       "      <td>2023</td>\n",
       "      <td>147.0</td>\n",
       "      <td>41.0</td>\n",
       "      <td>167.0</td>\n",
       "      <td>45.0</td>\n",
       "      <td>70.0</td>\n",
       "      <td>bu / acre</td>\n",
       "      <td>1.28</td>\n",
       "    </tr>\n",
       "    <tr>\n",
       "      <th>1</th>\n",
       "      <td>2022</td>\n",
       "      <td>161.0</td>\n",
       "      <td>39.0</td>\n",
       "      <td>176.0</td>\n",
       "      <td>45.5</td>\n",
       "      <td>60.0</td>\n",
       "      <td>bu / acre</td>\n",
       "      <td>1.23</td>\n",
       "    </tr>\n",
       "    <tr>\n",
       "      <th>2</th>\n",
       "      <td>2021</td>\n",
       "      <td>159.0</td>\n",
       "      <td>39.0</td>\n",
       "      <td>179.0</td>\n",
       "      <td>49.0</td>\n",
       "      <td>65.0</td>\n",
       "      <td>bu / acre</td>\n",
       "      <td>1.40</td>\n",
       "    </tr>\n",
       "    <tr>\n",
       "      <th>3</th>\n",
       "      <td>2020</td>\n",
       "      <td>171.0</td>\n",
       "      <td>36.0</td>\n",
       "      <td>161.0</td>\n",
       "      <td>51.0</td>\n",
       "      <td>62.0</td>\n",
       "      <td>bu / acre</td>\n",
       "      <td>-0.15</td>\n",
       "    </tr>\n",
       "    <tr>\n",
       "      <th>4</th>\n",
       "      <td>2019</td>\n",
       "      <td>155.0</td>\n",
       "      <td>37.0</td>\n",
       "      <td>164.0</td>\n",
       "      <td>46.0</td>\n",
       "      <td>63.0</td>\n",
       "      <td>bu / acre</td>\n",
       "      <td>-0.17</td>\n",
       "    </tr>\n",
       "  </tbody>\n",
       "</table>\n",
       "</div>"
      ],
      "text/plain": [
       "   Year  Corn Yield  Cotton Yield  Rice Yield  Soybean Yield  Wheat Yield  \\\n",
       "0  2023       147.0          41.0       167.0           45.0         70.0   \n",
       "1  2022       161.0          39.0       176.0           45.5         60.0   \n",
       "2  2021       159.0          39.0       179.0           49.0         65.0   \n",
       "3  2020       171.0          36.0       161.0           51.0         62.0   \n",
       "4  2019       155.0          37.0       164.0           46.0         63.0   \n",
       "\n",
       "  Yield Units  DJFM Mean SOI  \n",
       "0   bu / acre           1.28  \n",
       "1   bu / acre           1.23  \n",
       "2   bu / acre           1.40  \n",
       "3   bu / acre          -0.15  \n",
       "4   bu / acre          -0.17  "
      ]
     },
     "execution_count": 5,
     "metadata": {},
     "output_type": "execute_result"
    }
   ],
   "source": [
    "soiYield.head(5)"
   ]
  },
  {
   "cell_type": "code",
   "execution_count": 6,
   "id": "6604aed0",
   "metadata": {},
   "outputs": [
    {
     "data": {
      "text/plain": [
       "(72, 8)"
      ]
     },
     "execution_count": 6,
     "metadata": {},
     "output_type": "execute_result"
    }
   ],
   "source": [
    "soiYield.shape"
   ]
  },
  {
   "cell_type": "code",
   "execution_count": 7,
   "id": "47b13402",
   "metadata": {},
   "outputs": [],
   "source": [
    "soiYield_inverted = soiYield.sort_values(by= \"Year\", ascending= True)"
   ]
  },
  {
   "cell_type": "code",
   "execution_count": 8,
   "id": "59cca6e7",
   "metadata": {},
   "outputs": [
    {
     "data": {
      "text/html": [
       "<div>\n",
       "<style scoped>\n",
       "    .dataframe tbody tr th:only-of-type {\n",
       "        vertical-align: middle;\n",
       "    }\n",
       "\n",
       "    .dataframe tbody tr th {\n",
       "        vertical-align: top;\n",
       "    }\n",
       "\n",
       "    .dataframe thead th {\n",
       "        text-align: right;\n",
       "    }\n",
       "</style>\n",
       "<table border=\"1\" class=\"dataframe\">\n",
       "  <thead>\n",
       "    <tr style=\"text-align: right;\">\n",
       "      <th></th>\n",
       "      <th>Year</th>\n",
       "      <th>Corn Yield</th>\n",
       "      <th>Cotton Yield</th>\n",
       "      <th>Rice Yield</th>\n",
       "      <th>Soybean Yield</th>\n",
       "      <th>Wheat Yield</th>\n",
       "      <th>Yield Units</th>\n",
       "      <th>DJFM Mean SOI</th>\n",
       "    </tr>\n",
       "  </thead>\n",
       "  <tbody>\n",
       "    <tr>\n",
       "      <th>71</th>\n",
       "      <td>1952</td>\n",
       "      <td>41.0</td>\n",
       "      <td>11.0</td>\n",
       "      <td>54.0</td>\n",
       "      <td>18.5</td>\n",
       "      <td>22.0</td>\n",
       "      <td>bu / acre</td>\n",
       "      <td>-0.43</td>\n",
       "    </tr>\n",
       "    <tr>\n",
       "      <th>70</th>\n",
       "      <td>1953</td>\n",
       "      <td>33.5</td>\n",
       "      <td>12.0</td>\n",
       "      <td>56.0</td>\n",
       "      <td>13.5</td>\n",
       "      <td>26.0</td>\n",
       "      <td>bu / acre</td>\n",
       "      <td>-0.40</td>\n",
       "    </tr>\n",
       "    <tr>\n",
       "      <th>69</th>\n",
       "      <td>1954</td>\n",
       "      <td>23.0</td>\n",
       "      <td>15.0</td>\n",
       "      <td>59.0</td>\n",
       "      <td>14.5</td>\n",
       "      <td>30.0</td>\n",
       "      <td>bu / acre</td>\n",
       "      <td>0.05</td>\n",
       "    </tr>\n",
       "    <tr>\n",
       "      <th>68</th>\n",
       "      <td>1955</td>\n",
       "      <td>40.0</td>\n",
       "      <td>16.0</td>\n",
       "      <td>58.0</td>\n",
       "      <td>17.5</td>\n",
       "      <td>31.0</td>\n",
       "      <td>bu / acre</td>\n",
       "      <td>0.85</td>\n",
       "    </tr>\n",
       "    <tr>\n",
       "      <th>67</th>\n",
       "      <td>1956</td>\n",
       "      <td>48.0</td>\n",
       "      <td>18.0</td>\n",
       "      <td>67.0</td>\n",
       "      <td>20.0</td>\n",
       "      <td>30.5</td>\n",
       "      <td>bu / acre</td>\n",
       "      <td>1.30</td>\n",
       "    </tr>\n",
       "  </tbody>\n",
       "</table>\n",
       "</div>"
      ],
      "text/plain": [
       "    Year  Corn Yield  Cotton Yield  Rice Yield  Soybean Yield  Wheat Yield  \\\n",
       "71  1952        41.0          11.0        54.0           18.5         22.0   \n",
       "70  1953        33.5          12.0        56.0           13.5         26.0   \n",
       "69  1954        23.0          15.0        59.0           14.5         30.0   \n",
       "68  1955        40.0          16.0        58.0           17.5         31.0   \n",
       "67  1956        48.0          18.0        67.0           20.0         30.5   \n",
       "\n",
       "   Yield Units  DJFM Mean SOI  \n",
       "71   bu / acre          -0.43  \n",
       "70   bu / acre          -0.40  \n",
       "69   bu / acre           0.05  \n",
       "68   bu / acre           0.85  \n",
       "67   bu / acre           1.30  "
      ]
     },
     "execution_count": 8,
     "metadata": {},
     "output_type": "execute_result"
    }
   ],
   "source": [
    "soiYield_inverted.head(5)"
   ]
  },
  {
   "cell_type": "code",
   "execution_count": 9,
   "id": "b03eed2f",
   "metadata": {},
   "outputs": [
    {
     "data": {
      "text/html": [
       "<div>\n",
       "<style scoped>\n",
       "    .dataframe tbody tr th:only-of-type {\n",
       "        vertical-align: middle;\n",
       "    }\n",
       "\n",
       "    .dataframe tbody tr th {\n",
       "        vertical-align: top;\n",
       "    }\n",
       "\n",
       "    .dataframe thead th {\n",
       "        text-align: right;\n",
       "    }\n",
       "</style>\n",
       "<table border=\"1\" class=\"dataframe\">\n",
       "  <thead>\n",
       "    <tr style=\"text-align: right;\">\n",
       "      <th></th>\n",
       "      <th>Year</th>\n",
       "      <th>Corn Yield</th>\n",
       "      <th>Cotton Yield</th>\n",
       "      <th>Rice Yield</th>\n",
       "      <th>Soybean Yield</th>\n",
       "      <th>Wheat Yield</th>\n",
       "      <th>Yield Units</th>\n",
       "      <th>DJFM Mean SOI</th>\n",
       "    </tr>\n",
       "  </thead>\n",
       "  <tbody>\n",
       "    <tr>\n",
       "      <th>4</th>\n",
       "      <td>2019</td>\n",
       "      <td>155.0</td>\n",
       "      <td>37.0</td>\n",
       "      <td>164.0</td>\n",
       "      <td>46.0</td>\n",
       "      <td>63.0</td>\n",
       "      <td>bu / acre</td>\n",
       "      <td>-0.17</td>\n",
       "    </tr>\n",
       "    <tr>\n",
       "      <th>3</th>\n",
       "      <td>2020</td>\n",
       "      <td>171.0</td>\n",
       "      <td>36.0</td>\n",
       "      <td>161.0</td>\n",
       "      <td>51.0</td>\n",
       "      <td>62.0</td>\n",
       "      <td>bu / acre</td>\n",
       "      <td>-0.15</td>\n",
       "    </tr>\n",
       "    <tr>\n",
       "      <th>2</th>\n",
       "      <td>2021</td>\n",
       "      <td>159.0</td>\n",
       "      <td>39.0</td>\n",
       "      <td>179.0</td>\n",
       "      <td>49.0</td>\n",
       "      <td>65.0</td>\n",
       "      <td>bu / acre</td>\n",
       "      <td>1.40</td>\n",
       "    </tr>\n",
       "    <tr>\n",
       "      <th>1</th>\n",
       "      <td>2022</td>\n",
       "      <td>161.0</td>\n",
       "      <td>39.0</td>\n",
       "      <td>176.0</td>\n",
       "      <td>45.5</td>\n",
       "      <td>60.0</td>\n",
       "      <td>bu / acre</td>\n",
       "      <td>1.23</td>\n",
       "    </tr>\n",
       "    <tr>\n",
       "      <th>0</th>\n",
       "      <td>2023</td>\n",
       "      <td>147.0</td>\n",
       "      <td>41.0</td>\n",
       "      <td>167.0</td>\n",
       "      <td>45.0</td>\n",
       "      <td>70.0</td>\n",
       "      <td>bu / acre</td>\n",
       "      <td>1.28</td>\n",
       "    </tr>\n",
       "  </tbody>\n",
       "</table>\n",
       "</div>"
      ],
      "text/plain": [
       "   Year  Corn Yield  Cotton Yield  Rice Yield  Soybean Yield  Wheat Yield  \\\n",
       "4  2019       155.0          37.0       164.0           46.0         63.0   \n",
       "3  2020       171.0          36.0       161.0           51.0         62.0   \n",
       "2  2021       159.0          39.0       179.0           49.0         65.0   \n",
       "1  2022       161.0          39.0       176.0           45.5         60.0   \n",
       "0  2023       147.0          41.0       167.0           45.0         70.0   \n",
       "\n",
       "  Yield Units  DJFM Mean SOI  \n",
       "4   bu / acre          -0.17  \n",
       "3   bu / acre          -0.15  \n",
       "2   bu / acre           1.40  \n",
       "1   bu / acre           1.23  \n",
       "0   bu / acre           1.28  "
      ]
     },
     "execution_count": 9,
     "metadata": {},
     "output_type": "execute_result"
    }
   ],
   "source": [
    "soiYield_inverted.tail(5)"
   ]
  },
  {
   "cell_type": "code",
   "execution_count": 10,
   "id": "b4d02bb7",
   "metadata": {},
   "outputs": [
    {
     "name": "stdout",
     "output_type": "stream",
     "text": [
      "[1952, 1953, 1954, 1955, 1956, 1957, 1958, 1959, 1960, 1961, 1962, 1963, 1964, 1965, 1966, 1967, 1968, 1969, 1970, 1971, 1972, 1973, 1974, 1975, 1976, 1977, 1978, 1979, 1980, 1981, 1982, 1983, 1984, 1985, 1986, 1987, 1988, 1989, 1990, 1991, 1992, 1993, 1994, 1995, 1996, 1997, 1998, 1999, 2000, 2001, 2002, 2003, 2004, 2005, 2006, 2007, 2008, 2009, 2010, 2011, 2012, 2013, 2014, 2015, 2016, 2017, 2018, 2019, 2020, 2021, 2022, 2023]\n",
      "72\n"
     ]
    }
   ],
   "source": [
    "#Can I predict the winter wheat harvest from the harvest of corn, soybeans, cotton, rice?  Winter wheat is\n",
    "#typically planted in the fall season and harvested in the summer season of the following year.  For example,\n",
    "#winter wheat that was planted in the fall of 2022 was harvestd in the summer of 2023.  Thus, can I use the \n",
    "#fall 2002 yield of corn, soybeans, cotton, and rice to predict the summer 2023 yield of winter wheat?\n",
    "#\n",
    "#The following code unites the corn, soybean, cotton, rice yield with the next year's winter wheat yield\n",
    "years = list(soiYield_inverted[\"Year\"])\n",
    "print(years)\n",
    "print(len(years))"
   ]
  },
  {
   "cell_type": "code",
   "execution_count": 11,
   "id": "ac73db70",
   "metadata": {},
   "outputs": [
    {
     "name": "stdout",
     "output_type": "stream",
     "text": [
      "[22.0, 26.0, 30.0, 31.0, 30.5, 23.0, 28.0, 25.0, 28.5, 30.5, 27.0, 33.0, 31.5, 27.5, 34.0, 32.0, 33.0, 31.0, 33.0, 40.0, 39.0, 30.0, 29.0, 33.0, 33.0, 39.0, 34.0, 44.0, 43.0, 42.0, 34.0, 38.0, 41.0, 39.0, 33.0, 46.0, 49.0, 47.0, 38.0, 32.0, 48.0, 38.0, 45.0, 39.0, 39.0, 54.0, 46.0, 48.0, 52.0, 54.0, 44.0, 61.0, 52.0, 53.0, 54.0, 43.0, 48.0, 47.0, 46.0, 50.0, 58.0, 57.0, 58.0, 53.0, 70.0, 68.0, 59.0, 63.0, 62.0, 65.0, 60.0, 70.0]\n",
      "72\n"
     ]
    }
   ],
   "source": [
    "winter_wheat = list(soiYield_inverted[\"Wheat Yield\"])\n",
    "print(winter_wheat)\n",
    "print(len(winter_wheat))"
   ]
  },
  {
   "cell_type": "code",
   "execution_count": 12,
   "id": "074ac88c",
   "metadata": {},
   "outputs": [],
   "source": [
    "target_var = []\n",
    "for i, yr in enumerate(years):\n",
    "    \n",
    "    #print(yr)\n",
    "    \n",
    "    if yr < 2023:\n",
    "        \n",
    "        hold = winter_wheat[i + 1]\n",
    "        target_var.append(hold)\n",
    "        \n",
    "    else:\n",
    "        \n",
    "        target_var.append(np.nan)"
   ]
  },
  {
   "cell_type": "code",
   "execution_count": 13,
   "id": "8d26bdb0",
   "metadata": {},
   "outputs": [
    {
     "name": "stdout",
     "output_type": "stream",
     "text": [
      "[26.0, 30.0, 31.0, 30.5, 23.0, 28.0, 25.0, 28.5, 30.5, 27.0, 33.0, 31.5, 27.5, 34.0, 32.0, 33.0, 31.0, 33.0, 40.0, 39.0, 30.0, 29.0, 33.0, 33.0, 39.0, 34.0, 44.0, 43.0, 42.0, 34.0, 38.0, 41.0, 39.0, 33.0, 46.0, 49.0, 47.0, 38.0, 32.0, 48.0, 38.0, 45.0, 39.0, 39.0, 54.0, 46.0, 48.0, 52.0, 54.0, 44.0, 61.0, 52.0, 53.0, 54.0, 43.0, 48.0, 47.0, 46.0, 50.0, 58.0, 57.0, 58.0, 53.0, 70.0, 68.0, 59.0, 63.0, 62.0, 65.0, 60.0, 70.0, nan]\n"
     ]
    }
   ],
   "source": [
    "print(target_var)"
   ]
  },
  {
   "cell_type": "code",
   "execution_count": 14,
   "id": "7e0f1477",
   "metadata": {},
   "outputs": [],
   "source": [
    "df_target_var = pd.DataFrame({'Year': years, 'Target': target_var})"
   ]
  },
  {
   "cell_type": "code",
   "execution_count": 15,
   "id": "b785ea8b",
   "metadata": {},
   "outputs": [
    {
     "data": {
      "text/html": [
       "<div>\n",
       "<style scoped>\n",
       "    .dataframe tbody tr th:only-of-type {\n",
       "        vertical-align: middle;\n",
       "    }\n",
       "\n",
       "    .dataframe tbody tr th {\n",
       "        vertical-align: top;\n",
       "    }\n",
       "\n",
       "    .dataframe thead th {\n",
       "        text-align: right;\n",
       "    }\n",
       "</style>\n",
       "<table border=\"1\" class=\"dataframe\">\n",
       "  <thead>\n",
       "    <tr style=\"text-align: right;\">\n",
       "      <th></th>\n",
       "      <th>Year</th>\n",
       "      <th>Target</th>\n",
       "    </tr>\n",
       "  </thead>\n",
       "  <tbody>\n",
       "    <tr>\n",
       "      <th>0</th>\n",
       "      <td>1952</td>\n",
       "      <td>26.0</td>\n",
       "    </tr>\n",
       "    <tr>\n",
       "      <th>1</th>\n",
       "      <td>1953</td>\n",
       "      <td>30.0</td>\n",
       "    </tr>\n",
       "    <tr>\n",
       "      <th>2</th>\n",
       "      <td>1954</td>\n",
       "      <td>31.0</td>\n",
       "    </tr>\n",
       "    <tr>\n",
       "      <th>3</th>\n",
       "      <td>1955</td>\n",
       "      <td>30.5</td>\n",
       "    </tr>\n",
       "    <tr>\n",
       "      <th>4</th>\n",
       "      <td>1956</td>\n",
       "      <td>23.0</td>\n",
       "    </tr>\n",
       "  </tbody>\n",
       "</table>\n",
       "</div>"
      ],
      "text/plain": [
       "   Year  Target\n",
       "0  1952    26.0\n",
       "1  1953    30.0\n",
       "2  1954    31.0\n",
       "3  1955    30.5\n",
       "4  1956    23.0"
      ]
     },
     "execution_count": 15,
     "metadata": {},
     "output_type": "execute_result"
    }
   ],
   "source": [
    "df_target_var.head(5)"
   ]
  },
  {
   "cell_type": "code",
   "execution_count": 16,
   "id": "5832954c",
   "metadata": {},
   "outputs": [
    {
     "data": {
      "text/html": [
       "<div>\n",
       "<style scoped>\n",
       "    .dataframe tbody tr th:only-of-type {\n",
       "        vertical-align: middle;\n",
       "    }\n",
       "\n",
       "    .dataframe tbody tr th {\n",
       "        vertical-align: top;\n",
       "    }\n",
       "\n",
       "    .dataframe thead th {\n",
       "        text-align: right;\n",
       "    }\n",
       "</style>\n",
       "<table border=\"1\" class=\"dataframe\">\n",
       "  <thead>\n",
       "    <tr style=\"text-align: right;\">\n",
       "      <th></th>\n",
       "      <th>Year</th>\n",
       "      <th>Target</th>\n",
       "    </tr>\n",
       "  </thead>\n",
       "  <tbody>\n",
       "    <tr>\n",
       "      <th>67</th>\n",
       "      <td>2019</td>\n",
       "      <td>62.0</td>\n",
       "    </tr>\n",
       "    <tr>\n",
       "      <th>68</th>\n",
       "      <td>2020</td>\n",
       "      <td>65.0</td>\n",
       "    </tr>\n",
       "    <tr>\n",
       "      <th>69</th>\n",
       "      <td>2021</td>\n",
       "      <td>60.0</td>\n",
       "    </tr>\n",
       "    <tr>\n",
       "      <th>70</th>\n",
       "      <td>2022</td>\n",
       "      <td>70.0</td>\n",
       "    </tr>\n",
       "    <tr>\n",
       "      <th>71</th>\n",
       "      <td>2023</td>\n",
       "      <td>NaN</td>\n",
       "    </tr>\n",
       "  </tbody>\n",
       "</table>\n",
       "</div>"
      ],
      "text/plain": [
       "    Year  Target\n",
       "67  2019    62.0\n",
       "68  2020    65.0\n",
       "69  2021    60.0\n",
       "70  2022    70.0\n",
       "71  2023     NaN"
      ]
     },
     "execution_count": 16,
     "metadata": {},
     "output_type": "execute_result"
    }
   ],
   "source": [
    "df_target_var.tail(5)"
   ]
  },
  {
   "cell_type": "code",
   "execution_count": 17,
   "id": "ea454e6b",
   "metadata": {},
   "outputs": [],
   "source": [
    "df_merged = pd.merge(soiYield_inverted, df_target_var, on= \"Year\", how=\"left\")"
   ]
  },
  {
   "cell_type": "code",
   "execution_count": 18,
   "id": "78614bdc",
   "metadata": {},
   "outputs": [
    {
     "data": {
      "text/html": [
       "<div>\n",
       "<style scoped>\n",
       "    .dataframe tbody tr th:only-of-type {\n",
       "        vertical-align: middle;\n",
       "    }\n",
       "\n",
       "    .dataframe tbody tr th {\n",
       "        vertical-align: top;\n",
       "    }\n",
       "\n",
       "    .dataframe thead th {\n",
       "        text-align: right;\n",
       "    }\n",
       "</style>\n",
       "<table border=\"1\" class=\"dataframe\">\n",
       "  <thead>\n",
       "    <tr style=\"text-align: right;\">\n",
       "      <th></th>\n",
       "      <th>Year</th>\n",
       "      <th>Corn Yield</th>\n",
       "      <th>Cotton Yield</th>\n",
       "      <th>Rice Yield</th>\n",
       "      <th>Soybean Yield</th>\n",
       "      <th>Wheat Yield</th>\n",
       "      <th>Yield Units</th>\n",
       "      <th>DJFM Mean SOI</th>\n",
       "      <th>Target</th>\n",
       "    </tr>\n",
       "  </thead>\n",
       "  <tbody>\n",
       "    <tr>\n",
       "      <th>0</th>\n",
       "      <td>1952</td>\n",
       "      <td>41.0</td>\n",
       "      <td>11.0</td>\n",
       "      <td>54.0</td>\n",
       "      <td>18.5</td>\n",
       "      <td>22.0</td>\n",
       "      <td>bu / acre</td>\n",
       "      <td>-0.43</td>\n",
       "      <td>26.0</td>\n",
       "    </tr>\n",
       "    <tr>\n",
       "      <th>1</th>\n",
       "      <td>1953</td>\n",
       "      <td>33.5</td>\n",
       "      <td>12.0</td>\n",
       "      <td>56.0</td>\n",
       "      <td>13.5</td>\n",
       "      <td>26.0</td>\n",
       "      <td>bu / acre</td>\n",
       "      <td>-0.40</td>\n",
       "      <td>30.0</td>\n",
       "    </tr>\n",
       "    <tr>\n",
       "      <th>2</th>\n",
       "      <td>1954</td>\n",
       "      <td>23.0</td>\n",
       "      <td>15.0</td>\n",
       "      <td>59.0</td>\n",
       "      <td>14.5</td>\n",
       "      <td>30.0</td>\n",
       "      <td>bu / acre</td>\n",
       "      <td>0.05</td>\n",
       "      <td>31.0</td>\n",
       "    </tr>\n",
       "    <tr>\n",
       "      <th>3</th>\n",
       "      <td>1955</td>\n",
       "      <td>40.0</td>\n",
       "      <td>16.0</td>\n",
       "      <td>58.0</td>\n",
       "      <td>17.5</td>\n",
       "      <td>31.0</td>\n",
       "      <td>bu / acre</td>\n",
       "      <td>0.85</td>\n",
       "      <td>30.5</td>\n",
       "    </tr>\n",
       "    <tr>\n",
       "      <th>4</th>\n",
       "      <td>1956</td>\n",
       "      <td>48.0</td>\n",
       "      <td>18.0</td>\n",
       "      <td>67.0</td>\n",
       "      <td>20.0</td>\n",
       "      <td>30.5</td>\n",
       "      <td>bu / acre</td>\n",
       "      <td>1.30</td>\n",
       "      <td>23.0</td>\n",
       "    </tr>\n",
       "  </tbody>\n",
       "</table>\n",
       "</div>"
      ],
      "text/plain": [
       "   Year  Corn Yield  Cotton Yield  Rice Yield  Soybean Yield  Wheat Yield  \\\n",
       "0  1952        41.0          11.0        54.0           18.5         22.0   \n",
       "1  1953        33.5          12.0        56.0           13.5         26.0   \n",
       "2  1954        23.0          15.0        59.0           14.5         30.0   \n",
       "3  1955        40.0          16.0        58.0           17.5         31.0   \n",
       "4  1956        48.0          18.0        67.0           20.0         30.5   \n",
       "\n",
       "  Yield Units  DJFM Mean SOI  Target  \n",
       "0   bu / acre          -0.43    26.0  \n",
       "1   bu / acre          -0.40    30.0  \n",
       "2   bu / acre           0.05    31.0  \n",
       "3   bu / acre           0.85    30.5  \n",
       "4   bu / acre           1.30    23.0  "
      ]
     },
     "execution_count": 18,
     "metadata": {},
     "output_type": "execute_result"
    }
   ],
   "source": [
    "df_merged.head()"
   ]
  },
  {
   "cell_type": "code",
   "execution_count": 19,
   "id": "e8de681c",
   "metadata": {},
   "outputs": [
    {
     "data": {
      "text/html": [
       "<div>\n",
       "<style scoped>\n",
       "    .dataframe tbody tr th:only-of-type {\n",
       "        vertical-align: middle;\n",
       "    }\n",
       "\n",
       "    .dataframe tbody tr th {\n",
       "        vertical-align: top;\n",
       "    }\n",
       "\n",
       "    .dataframe thead th {\n",
       "        text-align: right;\n",
       "    }\n",
       "</style>\n",
       "<table border=\"1\" class=\"dataframe\">\n",
       "  <thead>\n",
       "    <tr style=\"text-align: right;\">\n",
       "      <th></th>\n",
       "      <th>Year</th>\n",
       "      <th>Corn Yield</th>\n",
       "      <th>Cotton Yield</th>\n",
       "      <th>Rice Yield</th>\n",
       "      <th>Soybean Yield</th>\n",
       "      <th>Wheat Yield</th>\n",
       "      <th>Yield Units</th>\n",
       "      <th>DJFM Mean SOI</th>\n",
       "      <th>Target</th>\n",
       "    </tr>\n",
       "  </thead>\n",
       "  <tbody>\n",
       "    <tr>\n",
       "      <th>67</th>\n",
       "      <td>2019</td>\n",
       "      <td>155.0</td>\n",
       "      <td>37.0</td>\n",
       "      <td>164.0</td>\n",
       "      <td>46.0</td>\n",
       "      <td>63.0</td>\n",
       "      <td>bu / acre</td>\n",
       "      <td>-0.17</td>\n",
       "      <td>62.0</td>\n",
       "    </tr>\n",
       "    <tr>\n",
       "      <th>68</th>\n",
       "      <td>2020</td>\n",
       "      <td>171.0</td>\n",
       "      <td>36.0</td>\n",
       "      <td>161.0</td>\n",
       "      <td>51.0</td>\n",
       "      <td>62.0</td>\n",
       "      <td>bu / acre</td>\n",
       "      <td>-0.15</td>\n",
       "      <td>65.0</td>\n",
       "    </tr>\n",
       "    <tr>\n",
       "      <th>69</th>\n",
       "      <td>2021</td>\n",
       "      <td>159.0</td>\n",
       "      <td>39.0</td>\n",
       "      <td>179.0</td>\n",
       "      <td>49.0</td>\n",
       "      <td>65.0</td>\n",
       "      <td>bu / acre</td>\n",
       "      <td>1.40</td>\n",
       "      <td>60.0</td>\n",
       "    </tr>\n",
       "    <tr>\n",
       "      <th>70</th>\n",
       "      <td>2022</td>\n",
       "      <td>161.0</td>\n",
       "      <td>39.0</td>\n",
       "      <td>176.0</td>\n",
       "      <td>45.5</td>\n",
       "      <td>60.0</td>\n",
       "      <td>bu / acre</td>\n",
       "      <td>1.23</td>\n",
       "      <td>70.0</td>\n",
       "    </tr>\n",
       "    <tr>\n",
       "      <th>71</th>\n",
       "      <td>2023</td>\n",
       "      <td>147.0</td>\n",
       "      <td>41.0</td>\n",
       "      <td>167.0</td>\n",
       "      <td>45.0</td>\n",
       "      <td>70.0</td>\n",
       "      <td>bu / acre</td>\n",
       "      <td>1.28</td>\n",
       "      <td>NaN</td>\n",
       "    </tr>\n",
       "  </tbody>\n",
       "</table>\n",
       "</div>"
      ],
      "text/plain": [
       "    Year  Corn Yield  Cotton Yield  Rice Yield  Soybean Yield  Wheat Yield  \\\n",
       "67  2019       155.0          37.0       164.0           46.0         63.0   \n",
       "68  2020       171.0          36.0       161.0           51.0         62.0   \n",
       "69  2021       159.0          39.0       179.0           49.0         65.0   \n",
       "70  2022       161.0          39.0       176.0           45.5         60.0   \n",
       "71  2023       147.0          41.0       167.0           45.0         70.0   \n",
       "\n",
       "   Yield Units  DJFM Mean SOI  Target  \n",
       "67   bu / acre          -0.17    62.0  \n",
       "68   bu / acre          -0.15    65.0  \n",
       "69   bu / acre           1.40    60.0  \n",
       "70   bu / acre           1.23    70.0  \n",
       "71   bu / acre           1.28     NaN  "
      ]
     },
     "execution_count": 19,
     "metadata": {},
     "output_type": "execute_result"
    }
   ],
   "source": [
    "df_merged.tail()"
   ]
  },
  {
   "cell_type": "code",
   "execution_count": 20,
   "id": "555ce262",
   "metadata": {},
   "outputs": [],
   "source": [
    "col_to_drop = [\"Wheat Yield\", \"Yield Units\"]\n",
    "\n",
    "df_merged.drop(columns= col_to_drop, inplace=True)"
   ]
  },
  {
   "cell_type": "code",
   "execution_count": 21,
   "id": "2c121af8",
   "metadata": {},
   "outputs": [
    {
     "data": {
      "text/html": [
       "<div>\n",
       "<style scoped>\n",
       "    .dataframe tbody tr th:only-of-type {\n",
       "        vertical-align: middle;\n",
       "    }\n",
       "\n",
       "    .dataframe tbody tr th {\n",
       "        vertical-align: top;\n",
       "    }\n",
       "\n",
       "    .dataframe thead th {\n",
       "        text-align: right;\n",
       "    }\n",
       "</style>\n",
       "<table border=\"1\" class=\"dataframe\">\n",
       "  <thead>\n",
       "    <tr style=\"text-align: right;\">\n",
       "      <th></th>\n",
       "      <th>Year</th>\n",
       "      <th>Corn Yield</th>\n",
       "      <th>Cotton Yield</th>\n",
       "      <th>Rice Yield</th>\n",
       "      <th>Soybean Yield</th>\n",
       "      <th>DJFM Mean SOI</th>\n",
       "      <th>Target</th>\n",
       "    </tr>\n",
       "  </thead>\n",
       "  <tbody>\n",
       "    <tr>\n",
       "      <th>0</th>\n",
       "      <td>1952</td>\n",
       "      <td>41.0</td>\n",
       "      <td>11.0</td>\n",
       "      <td>54.0</td>\n",
       "      <td>18.5</td>\n",
       "      <td>-0.43</td>\n",
       "      <td>26.0</td>\n",
       "    </tr>\n",
       "    <tr>\n",
       "      <th>1</th>\n",
       "      <td>1953</td>\n",
       "      <td>33.5</td>\n",
       "      <td>12.0</td>\n",
       "      <td>56.0</td>\n",
       "      <td>13.5</td>\n",
       "      <td>-0.40</td>\n",
       "      <td>30.0</td>\n",
       "    </tr>\n",
       "    <tr>\n",
       "      <th>2</th>\n",
       "      <td>1954</td>\n",
       "      <td>23.0</td>\n",
       "      <td>15.0</td>\n",
       "      <td>59.0</td>\n",
       "      <td>14.5</td>\n",
       "      <td>0.05</td>\n",
       "      <td>31.0</td>\n",
       "    </tr>\n",
       "    <tr>\n",
       "      <th>3</th>\n",
       "      <td>1955</td>\n",
       "      <td>40.0</td>\n",
       "      <td>16.0</td>\n",
       "      <td>58.0</td>\n",
       "      <td>17.5</td>\n",
       "      <td>0.85</td>\n",
       "      <td>30.5</td>\n",
       "    </tr>\n",
       "    <tr>\n",
       "      <th>4</th>\n",
       "      <td>1956</td>\n",
       "      <td>48.0</td>\n",
       "      <td>18.0</td>\n",
       "      <td>67.0</td>\n",
       "      <td>20.0</td>\n",
       "      <td>1.30</td>\n",
       "      <td>23.0</td>\n",
       "    </tr>\n",
       "  </tbody>\n",
       "</table>\n",
       "</div>"
      ],
      "text/plain": [
       "   Year  Corn Yield  Cotton Yield  Rice Yield  Soybean Yield  DJFM Mean SOI  \\\n",
       "0  1952        41.0          11.0        54.0           18.5          -0.43   \n",
       "1  1953        33.5          12.0        56.0           13.5          -0.40   \n",
       "2  1954        23.0          15.0        59.0           14.5           0.05   \n",
       "3  1955        40.0          16.0        58.0           17.5           0.85   \n",
       "4  1956        48.0          18.0        67.0           20.0           1.30   \n",
       "\n",
       "   Target  \n",
       "0    26.0  \n",
       "1    30.0  \n",
       "2    31.0  \n",
       "3    30.5  \n",
       "4    23.0  "
      ]
     },
     "execution_count": 21,
     "metadata": {},
     "output_type": "execute_result"
    }
   ],
   "source": [
    "df_merged.head(5)"
   ]
  },
  {
   "cell_type": "code",
   "execution_count": 22,
   "id": "5189cd9c",
   "metadata": {},
   "outputs": [],
   "source": [
    "df_merged.rename(columns={\"Target\":\"WinterWheat Yield\"}, inplace=True)"
   ]
  },
  {
   "cell_type": "code",
   "execution_count": 23,
   "id": "02079830",
   "metadata": {},
   "outputs": [
    {
     "data": {
      "text/html": [
       "<div>\n",
       "<style scoped>\n",
       "    .dataframe tbody tr th:only-of-type {\n",
       "        vertical-align: middle;\n",
       "    }\n",
       "\n",
       "    .dataframe tbody tr th {\n",
       "        vertical-align: top;\n",
       "    }\n",
       "\n",
       "    .dataframe thead th {\n",
       "        text-align: right;\n",
       "    }\n",
       "</style>\n",
       "<table border=\"1\" class=\"dataframe\">\n",
       "  <thead>\n",
       "    <tr style=\"text-align: right;\">\n",
       "      <th></th>\n",
       "      <th>Year</th>\n",
       "      <th>Corn Yield</th>\n",
       "      <th>Cotton Yield</th>\n",
       "      <th>Rice Yield</th>\n",
       "      <th>Soybean Yield</th>\n",
       "      <th>DJFM Mean SOI</th>\n",
       "      <th>WinterWheat Yield</th>\n",
       "    </tr>\n",
       "  </thead>\n",
       "  <tbody>\n",
       "    <tr>\n",
       "      <th>0</th>\n",
       "      <td>1952</td>\n",
       "      <td>41.0</td>\n",
       "      <td>11.0</td>\n",
       "      <td>54.0</td>\n",
       "      <td>18.5</td>\n",
       "      <td>-0.43</td>\n",
       "      <td>26.0</td>\n",
       "    </tr>\n",
       "    <tr>\n",
       "      <th>1</th>\n",
       "      <td>1953</td>\n",
       "      <td>33.5</td>\n",
       "      <td>12.0</td>\n",
       "      <td>56.0</td>\n",
       "      <td>13.5</td>\n",
       "      <td>-0.40</td>\n",
       "      <td>30.0</td>\n",
       "    </tr>\n",
       "    <tr>\n",
       "      <th>2</th>\n",
       "      <td>1954</td>\n",
       "      <td>23.0</td>\n",
       "      <td>15.0</td>\n",
       "      <td>59.0</td>\n",
       "      <td>14.5</td>\n",
       "      <td>0.05</td>\n",
       "      <td>31.0</td>\n",
       "    </tr>\n",
       "    <tr>\n",
       "      <th>3</th>\n",
       "      <td>1955</td>\n",
       "      <td>40.0</td>\n",
       "      <td>16.0</td>\n",
       "      <td>58.0</td>\n",
       "      <td>17.5</td>\n",
       "      <td>0.85</td>\n",
       "      <td>30.5</td>\n",
       "    </tr>\n",
       "    <tr>\n",
       "      <th>4</th>\n",
       "      <td>1956</td>\n",
       "      <td>48.0</td>\n",
       "      <td>18.0</td>\n",
       "      <td>67.0</td>\n",
       "      <td>20.0</td>\n",
       "      <td>1.30</td>\n",
       "      <td>23.0</td>\n",
       "    </tr>\n",
       "  </tbody>\n",
       "</table>\n",
       "</div>"
      ],
      "text/plain": [
       "   Year  Corn Yield  Cotton Yield  Rice Yield  Soybean Yield  DJFM Mean SOI  \\\n",
       "0  1952        41.0          11.0        54.0           18.5          -0.43   \n",
       "1  1953        33.5          12.0        56.0           13.5          -0.40   \n",
       "2  1954        23.0          15.0        59.0           14.5           0.05   \n",
       "3  1955        40.0          16.0        58.0           17.5           0.85   \n",
       "4  1956        48.0          18.0        67.0           20.0           1.30   \n",
       "\n",
       "   WinterWheat Yield  \n",
       "0               26.0  \n",
       "1               30.0  \n",
       "2               31.0  \n",
       "3               30.5  \n",
       "4               23.0  "
      ]
     },
     "execution_count": 23,
     "metadata": {},
     "output_type": "execute_result"
    }
   ],
   "source": [
    "df_merged.head(5)"
   ]
  },
  {
   "cell_type": "code",
   "execution_count": 24,
   "id": "eda10aa6",
   "metadata": {},
   "outputs": [
    {
     "name": "stdout",
     "output_type": "stream",
     "text": [
      "Year                 0\n",
      "Corn Yield           0\n",
      "Cotton Yield         0\n",
      "Rice Yield           0\n",
      "Soybean Yield        0\n",
      "DJFM Mean SOI        0\n",
      "WinterWheat Yield    1\n",
      "dtype: int64\n"
     ]
    }
   ],
   "source": [
    "print(df_merged.isnull().sum())"
   ]
  },
  {
   "cell_type": "code",
   "execution_count": 25,
   "id": "f5b4f839",
   "metadata": {},
   "outputs": [
    {
     "data": {
      "text/html": [
       "<div>\n",
       "<style scoped>\n",
       "    .dataframe tbody tr th:only-of-type {\n",
       "        vertical-align: middle;\n",
       "    }\n",
       "\n",
       "    .dataframe tbody tr th {\n",
       "        vertical-align: top;\n",
       "    }\n",
       "\n",
       "    .dataframe thead th {\n",
       "        text-align: right;\n",
       "    }\n",
       "</style>\n",
       "<table border=\"1\" class=\"dataframe\">\n",
       "  <thead>\n",
       "    <tr style=\"text-align: right;\">\n",
       "      <th></th>\n",
       "      <th>Year</th>\n",
       "      <th>Corn Yield</th>\n",
       "      <th>Cotton Yield</th>\n",
       "      <th>Rice Yield</th>\n",
       "      <th>Soybean Yield</th>\n",
       "      <th>DJFM Mean SOI</th>\n",
       "      <th>WinterWheat Yield</th>\n",
       "    </tr>\n",
       "  </thead>\n",
       "  <tbody>\n",
       "    <tr>\n",
       "      <th>67</th>\n",
       "      <td>2019</td>\n",
       "      <td>155.0</td>\n",
       "      <td>37.0</td>\n",
       "      <td>164.0</td>\n",
       "      <td>46.0</td>\n",
       "      <td>-0.17</td>\n",
       "      <td>62.0</td>\n",
       "    </tr>\n",
       "    <tr>\n",
       "      <th>68</th>\n",
       "      <td>2020</td>\n",
       "      <td>171.0</td>\n",
       "      <td>36.0</td>\n",
       "      <td>161.0</td>\n",
       "      <td>51.0</td>\n",
       "      <td>-0.15</td>\n",
       "      <td>65.0</td>\n",
       "    </tr>\n",
       "    <tr>\n",
       "      <th>69</th>\n",
       "      <td>2021</td>\n",
       "      <td>159.0</td>\n",
       "      <td>39.0</td>\n",
       "      <td>179.0</td>\n",
       "      <td>49.0</td>\n",
       "      <td>1.40</td>\n",
       "      <td>60.0</td>\n",
       "    </tr>\n",
       "    <tr>\n",
       "      <th>70</th>\n",
       "      <td>2022</td>\n",
       "      <td>161.0</td>\n",
       "      <td>39.0</td>\n",
       "      <td>176.0</td>\n",
       "      <td>45.5</td>\n",
       "      <td>1.23</td>\n",
       "      <td>70.0</td>\n",
       "    </tr>\n",
       "    <tr>\n",
       "      <th>71</th>\n",
       "      <td>2023</td>\n",
       "      <td>147.0</td>\n",
       "      <td>41.0</td>\n",
       "      <td>167.0</td>\n",
       "      <td>45.0</td>\n",
       "      <td>1.28</td>\n",
       "      <td>NaN</td>\n",
       "    </tr>\n",
       "  </tbody>\n",
       "</table>\n",
       "</div>"
      ],
      "text/plain": [
       "    Year  Corn Yield  Cotton Yield  Rice Yield  Soybean Yield  DJFM Mean SOI  \\\n",
       "67  2019       155.0          37.0       164.0           46.0          -0.17   \n",
       "68  2020       171.0          36.0       161.0           51.0          -0.15   \n",
       "69  2021       159.0          39.0       179.0           49.0           1.40   \n",
       "70  2022       161.0          39.0       176.0           45.5           1.23   \n",
       "71  2023       147.0          41.0       167.0           45.0           1.28   \n",
       "\n",
       "    WinterWheat Yield  \n",
       "67               62.0  \n",
       "68               65.0  \n",
       "69               60.0  \n",
       "70               70.0  \n",
       "71                NaN  "
      ]
     },
     "execution_count": 25,
     "metadata": {},
     "output_type": "execute_result"
    }
   ],
   "source": [
    "df_merged.tail(5)"
   ]
  },
  {
   "cell_type": "code",
   "execution_count": 26,
   "id": "5fa3a811",
   "metadata": {},
   "outputs": [],
   "source": [
    "df_merged.dropna(how='any', inplace=True)"
   ]
  },
  {
   "cell_type": "code",
   "execution_count": 27,
   "id": "523a6bb8",
   "metadata": {},
   "outputs": [
    {
     "name": "stdout",
     "output_type": "stream",
     "text": [
      "Year                 0\n",
      "Corn Yield           0\n",
      "Cotton Yield         0\n",
      "Rice Yield           0\n",
      "Soybean Yield        0\n",
      "DJFM Mean SOI        0\n",
      "WinterWheat Yield    0\n",
      "dtype: int64\n"
     ]
    }
   ],
   "source": [
    "print(df_merged.isnull().sum())"
   ]
  },
  {
   "cell_type": "code",
   "execution_count": 28,
   "id": "664933be",
   "metadata": {},
   "outputs": [
    {
     "data": {
      "image/png": "[encoded data removed]",
      "text/plain": [
       "<Figure size 640x480 with 1 Axes>"
      ]
     },
     "metadata": {},
     "output_type": "display_data"
    },
    {
     "data": {
      "image/png": "[encoded data removed]",
      "text/plain": [
       "<Figure size 640x480 with 1 Axes>"
      ]
     },
     "metadata": {},
     "output_type": "display_data"
    },
    {
     "data": {
      "image/png": "[encoded data removed]",
      "text/plain": [
       "<Figure size 640x480 with 1 Axes>"
      ]
     },
     "metadata": {},
     "output_type": "display_data"
    },
    {
     "data": {
      "image/png": "[encoded data removed]",
      "text/plain": [
       "<Figure size 640x480 with 1 Axes>"
      ]
     },
     "metadata": {},
     "output_type": "display_data"
    }
   ],
   "source": [
    "#Let's look at the data: winter wheat yield VS corn, cotton, rice, soybean yields\n",
    "feature_vars = [\"Corn Yield\", \"Cotton Yield\", \"Rice Yield\", \"Soybean Yield\"]\n",
    "\n",
    "for feature in feature_vars:\n",
    "    \n",
    "    sns.scatterplot(y=\"WinterWheat Yield\", x=feature, data=df_merged)\n",
    "    plt.show()"
   ]
  },
  {
   "cell_type": "code",
   "execution_count": 29,
   "id": "21eeb31a",
   "metadata": {},
   "outputs": [],
   "source": [
    "#Prepare feature and target data for modeling \n",
    "X = df_merged[feature_vars]\n",
    "y = df_merged[\"WinterWheat Yield\"]"
   ]
  },
  {
   "cell_type": "code",
   "execution_count": 30,
   "id": "f43004c4",
   "metadata": {},
   "outputs": [],
   "source": [
    "#scale feature data \n",
    "feature_names = X.columns\n",
    "\n",
    "scaler = StandardScaler()\n",
    "scaler.fit(X)\n",
    "X_scaled = scaler.transform(X)"
   ]
  },
  {
   "cell_type": "code",
   "execution_count": 31,
   "id": "70e7fa83",
   "metadata": {},
   "outputs": [],
   "source": [
    "#split data into train and test datasets \n",
    "X_train, X_test, y_train, y_test = train_test_split(X_scaled, y, test_size=0.3, random_state=42)"
   ]
  },
  {
   "cell_type": "code",
   "execution_count": 32,
   "id": "8484b28a",
   "metadata": {},
   "outputs": [],
   "source": [
    "#run linear regression model and examine the \"goodness\" of model\n",
    "model = LinearRegression()\n",
    "model.fit(X_train, y_train)\n",
    "y_train_pred = model.predict(X_train)\n",
    "y_test_pred = model.predict(X_test)"
   ]
  },
  {
   "cell_type": "code",
   "execution_count": 33,
   "id": "928042b2",
   "metadata": {},
   "outputs": [
    {
     "name": "stdout",
     "output_type": "stream",
     "text": [
      "Train Mean Squared Error: 35.09722729357787\n",
      "Train Root Mean Squared Error: 5.924291290405788\n",
      "Train Mean Absolute Error: 5.150769995110059\n",
      "Train R-squared: 0.7725339363615542\n"
     ]
    }
   ],
   "source": [
    "mse_train = mean_squared_error(y_train, y_train_pred)\n",
    "rmse_train = mean_squared_error(y_train, y_train_pred, squared=False)\n",
    "mae_train = mean_absolute_error(y_train, y_train_pred)\n",
    "r2_train = r2_score(y_train, y_train_pred)\n",
    "\n",
    "# Print the evaluation metrics\n",
    "print(\"Train Mean Squared Error:\", mse_train)\n",
    "print(\"Train Root Mean Squared Error:\", rmse_train)\n",
    "print(\"Train Mean Absolute Error:\", mae_train)\n",
    "print(\"Train R-squared:\", r2_train)"
   ]
  },
  {
   "cell_type": "code",
   "execution_count": 34,
   "id": "40506a5f",
   "metadata": {},
   "outputs": [
    {
     "name": "stdout",
     "output_type": "stream",
     "text": [
      "Test Mean Squared Error: 25.733715330439942\n",
      "Test Root Mean Squared Error: 5.0728409526063345\n",
      "Test Mean Absolute Error: 4.3656138221970915\n",
      "Test R-squared: 0.7633063026831759\n"
     ]
    }
   ],
   "source": [
    "mse_test = mean_squared_error(y_test, y_test_pred)\n",
    "rmse_test = mean_squared_error(y_test, y_test_pred, squared=False)\n",
    "mae_test = mean_absolute_error(y_test, y_test_pred)\n",
    "r2_test = r2_score(y_test, y_test_pred)\n",
    "\n",
    "# Print the evaluation metrics for the test data\n",
    "print(\"Test Mean Squared Error:\", mse_test)\n",
    "print(\"Test Root Mean Squared Error:\", rmse_test)\n",
    "print(\"Test Mean Absolute Error:\", mae_test)\n",
    "print(\"Test R-squared:\", r2_test)"
   ]
  },
  {
   "cell_type": "code",
   "execution_count": 35,
   "id": "0f52d08c",
   "metadata": {},
   "outputs": [
    {
     "data": {
      "image/png": "[encoded data removed]",
      "text/plain": [
       "<Figure size 640x480 with 1 Axes>"
      ]
     },
     "metadata": {},
     "output_type": "display_data"
    },
    {
     "data": {
      "image/png": "[encoded data removed]",
      "text/plain": [
       "<Figure size 640x480 with 1 Axes>"
      ]
     },
     "metadata": {},
     "output_type": "display_data"
    }
   ],
   "source": [
    "#Training\n",
    "plt.plot(y_train, y_train_pred, marker='.', linestyle='none')\n",
    "plt.plot([x for x in range(20,70)],[x for x in range(20,70)], color='red')\n",
    "\n",
    "plt.title(\"Training Data\")\n",
    "plt.xlabel(\"Actual\")\n",
    "plt.ylabel(\"Predicted\")\n",
    "\n",
    "plt.show()\n",
    "\n",
    "#Test\n",
    "plt.plot(y_test, y_test_pred, marker='.', linestyle='none')\n",
    "plt.plot([x for x in range(20,70)],[x for x in range(20,70)], color='red')\n",
    "\n",
    "plt.title(\"Test Data\")\n",
    "plt.xlabel(\"Actual\")\n",
    "plt.ylabel(\"Predicted\")\n",
    "\n",
    "plt.show()"
   ]
  },
  {
   "cell_type": "code",
   "execution_count": null,
   "id": "da2a59ca",
   "metadata": {},
   "outputs": [],
   "source": [
    "#Use cross validataion to test the robustnessa of model "
   ]
  },
  {
   "cell_type": "code",
   "execution_count": 36,
   "id": "16b7e025",
   "metadata": {},
   "outputs": [
    {
     "name": "stdout",
     "output_type": "stream",
     "text": [
      "[0.75615109 0.57690189 0.77098187 0.81678968 0.67252651]\n",
      "0.7186702081241452 0.08484840176127323\n"
     ]
    }
   ],
   "source": [
    "#Cross validation w/ shuffle=True  \n",
    "kf = KFold(n_splits=5, shuffle=True, random_state=42)\n",
    "model = LinearRegression()\n",
    "cv_results = cross_val_score(model, X_train, y_train, cv=kf)\n",
    "print(cv_results)\n",
    "print(np.mean(cv_results), np.std(cv_results))\n"
   ]
  },
  {
   "cell_type": "code",
   "execution_count": 38,
   "id": "b6f61358",
   "metadata": {},
   "outputs": [
    {
     "name": "stdout",
     "output_type": "stream",
     "text": [
      "[0.21493283 0.79236637 0.48694298 0.79458615 0.63808177]\n",
      "0.585382019974921 0.21739779250540336\n"
     ]
    }
   ],
   "source": [
    "#Cross validation w/ shuffle=False  \n",
    "kf = KFold(n_splits=5, shuffle=False, random_state=None)\n",
    "model = LinearRegression()\n",
    "cv_results = cross_val_score(model, X_train, y_train, cv=kf)\n",
    "print(cv_results)\n",
    "print(np.mean(cv_results), np.std(cv_results))"
   ]
  },
  {
   "cell_type": "code",
   "execution_count": 39,
   "id": "59856350",
   "metadata": {},
   "outputs": [
    {
     "name": "stdout",
     "output_type": "stream",
     "text": [
      "[0.21493283 0.79236637 0.48694298 0.79458615 0.63808177]\n",
      "0.585382019974921 0.21739779250540336\n"
     ]
    }
   ],
   "source": [
    "#Cross validation w/out using KFold  \n",
    "model = LinearRegression()\n",
    "cv_results = cross_val_score(model, X_train, y_train, cv=5)\n",
    "print(cv_results)\n",
    "print(np.mean(cv_results), np.std(cv_results))"
   ]
  },
  {
   "cell_type": "code",
   "execution_count": null,
   "id": "309088d1",
   "metadata": {},
   "outputs": [],
   "source": [
    "#Test alternate model "
   ]
  },
  {
   "cell_type": "code",
   "execution_count": 43,
   "id": "66692218",
   "metadata": {},
   "outputs": [],
   "source": [
    "#Run random forest regression and examine the \"goodness\" of model  \n",
    "rf_regressor = RandomForestRegressor(n_estimators=100, random_state=42)\n",
    "rf_regressor.fit(X_train, y_train)\n",
    "rf_pred_train = rf_regressor.predict(X_train)\n",
    "rf_pred_test = rf_regressor.predict(X_test)"
   ]
  },
  {
   "cell_type": "code",
   "execution_count": 44,
   "id": "f23dd08a",
   "metadata": {},
   "outputs": [
    {
     "name": "stdout",
     "output_type": "stream",
     "text": [
      "RF Train Mean Squared Error: 5.990441836734696\n",
      "RF Train Root Mean Squared Error: 2.4475379132374426\n",
      "RF Train Mean Absolute Error: 2.0267346938775512\n",
      "RF Train R-squared: 0.9611757871167664\n"
     ]
    }
   ],
   "source": [
    "rf_mse_train = mean_squared_error(y_train, rf_pred_train)\n",
    "rf_rmse_train = mean_squared_error(y_train, rf_pred_train, squared=False)\n",
    "rf_mae_train = mean_absolute_error(y_train, rf_pred_train)\n",
    "rf_r2_train = r2_score(y_train, rf_pred_train)\n",
    "\n",
    "# Print the evaluation metrics\n",
    "print(\"RF Train Mean Squared Error:\", rf_mse_train)\n",
    "print(\"RF Train Root Mean Squared Error:\", rf_rmse_train)\n",
    "print(\"RF Train Mean Absolute Error:\", rf_mae_train)\n",
    "print(\"RF Train R-squared:\", rf_r2_train)"
   ]
  },
  {
   "cell_type": "code",
   "execution_count": 46,
   "id": "811270b1",
   "metadata": {},
   "outputs": [
    {
     "name": "stdout",
     "output_type": "stream",
     "text": [
      "RF Train Mean Squared Error: 26.194706818181814\n",
      "RF Train Root Mean Squared Error: 5.118076476390502\n",
      "RF Train Mean Absolute Error: 4.52\n",
      "RF Train R-squared: 0.7590661928403449\n"
     ]
    }
   ],
   "source": [
    "rf_mse_test = mean_squared_error(y_test, rf_pred_test)\n",
    "rf_rmse_test = mean_squared_error(y_test, rf_pred_test, squared=False)\n",
    "rf_mae_test = mean_absolute_error(y_test, rf_pred_test)\n",
    "rf_r2_test = r2_score(y_test, rf_pred_test)\n",
    "\n",
    "# Print the evaluation metrics\n",
    "print(\"RF Train Mean Squared Error:\", rf_mse_test)\n",
    "print(\"RF Train Root Mean Squared Error:\", rf_rmse_test)\n",
    "print(\"RF Train Mean Absolute Error:\", rf_mae_test)\n",
    "print(\"RF Train R-squared:\", rf_r2_test)"
   ]
  },
  {
   "cell_type": "code",
   "execution_count": 47,
   "id": "a8e0c82f",
   "metadata": {},
   "outputs": [
    {
     "data": {
      "image/png": "[encoded data removed]",
      "text/plain": [
       "<Figure size 640x480 with 1 Axes>"
      ]
     },
     "metadata": {},
     "output_type": "display_data"
    },
    {
     "data": {
      "image/png": "[encoded data removed]",
      "text/plain": [
       "<Figure size 640x480 with 1 Axes>"
      ]
     },
     "metadata": {},
     "output_type": "display_data"
    }
   ],
   "source": [
    "#Training\n",
    "plt.plot(y_train, rf_pred_train, marker='.', linestyle='none')\n",
    "plt.plot([x for x in range(20,70)],[x for x in range(20,70)], color='red')\n",
    "\n",
    "plt.title(\"Random Forest: Training Data\")\n",
    "plt.xlabel(\"Actual\")\n",
    "plt.ylabel(\"Predicted\")\n",
    "\n",
    "plt.show()\n",
    "\n",
    "#Test\n",
    "plt.plot(y_test, rf_pred_test, marker='.', linestyle='none')\n",
    "plt.plot([x for x in range(20,70)],[x for x in range(20,70)], color='red')\n",
    "\n",
    "plt.title(\"Random Forest: Test Data\")\n",
    "plt.xlabel(\"Actual\")\n",
    "plt.ylabel(\"Predicted\")\n",
    "\n",
    "plt.show()"
   ]
  },
  {
   "cell_type": "code",
   "execution_count": null,
   "id": "8c0fb93b",
   "metadata": {},
   "outputs": [],
   "source": [
    "#Use cross validataion to test the robustness of model "
   ]
  },
  {
   "cell_type": "code",
   "execution_count": 48,
   "id": "8ff58bbb",
   "metadata": {},
   "outputs": [
    {
     "name": "stdout",
     "output_type": "stream",
     "text": [
      "[0.69125344 0.46961126 0.7784132  0.75050499 0.63653771]\n",
      "0.6652641210711095 0.10940695854666123\n"
     ]
    }
   ],
   "source": [
    "#Cross validation w/ shuffle=True \n",
    "kf = KFold(n_splits=5, shuffle=True, random_state=42)\n",
    "rf_regressor = RandomForestRegressor(n_estimators=100, random_state=42)\n",
    "cv_results = cross_val_score(rf_regressor, X_train, y_train, cv=kf)\n",
    "print(cv_results)\n",
    "print(np.mean(cv_results), np.std(cv_results))"
   ]
  },
  {
   "cell_type": "code",
   "execution_count": 50,
   "id": "631663f9",
   "metadata": {},
   "outputs": [
    {
     "name": "stdout",
     "output_type": "stream",
     "text": [
      "[0.12252204 0.80351177 0.25541462 0.69151162 0.70724764]\n",
      "0.5160415386624955 0.27304675003051365\n"
     ]
    }
   ],
   "source": [
    "#Cross validation w/ shuffle=False \n",
    "kf = KFold(n_splits=5, shuffle=False)\n",
    "rf_regressor = RandomForestRegressor(n_estimators=100, random_state=42)\n",
    "cv_results = cross_val_score(rf_regressor, X_train, y_train, cv=kf)\n",
    "print(cv_results)\n",
    "print(np.mean(cv_results), np.std(cv_results))"
   ]
  },
  {
   "cell_type": "code",
   "execution_count": 53,
   "id": "879c12d6",
   "metadata": {},
   "outputs": [],
   "source": [
    "#Test response to 'n_estimators' parameter (default = 100)\n",
    "\n",
    "test_values = [10, 50, 100, 200, 300, 500, 1000]\n",
    "test_values_mse = []\n",
    "\n",
    "for val in test_values:\n",
    "    \n",
    "    rf_regressor = RandomForestRegressor(n_estimators=val, random_state=42)\n",
    "    rf_regressor.fit(X_train, y_train)\n",
    "    rf_pred_train = rf_regressor.predict(X_train)\n",
    "    \n",
    "    hold_mse = mean_squared_error(y_train, rf_pred_train)\n",
    "    \n",
    "    test_values_mse.append(hold_mse)"
   ]
  },
  {
   "cell_type": "code",
   "execution_count": 57,
   "id": "b8987327",
   "metadata": {},
   "outputs": [
    {
     "name": "stdout",
     "output_type": "stream",
     "text": [
      "[7.736632653061225, 6.42132857142857, 5.990441836734696, 6.10397487244898, 6.09968117913832, 6.038066877551024, 6.039993520408165]\n"
     ]
    }
   ],
   "source": [
    "print(test_values_mse)"
   ]
  },
  {
   "cell_type": "code",
   "execution_count": 60,
   "id": "5b249b80",
   "metadata": {},
   "outputs": [
    {
     "data": {
      "text/plain": [
       "Text(0.5, 1.0, 'Random Forest Regression: MSE vs n_estimators')"
      ]
     },
     "execution_count": 60,
     "metadata": {},
     "output_type": "execute_result"
    },
    {
     "data": {
      "image/png": "[encoded data removed]",
      "text/plain": [
       "<Figure size 640x480 with 1 Axes>"
      ]
     },
     "metadata": {},
     "output_type": "display_data"
    }
   ],
   "source": [
    "plt.plot(test_values, test_values_mse, marker='.')\n",
    "plt.xlabel('Value of n_estimators')\n",
    "plt.ylabel('MSE')\n",
    "plt.title('Random Forest Regression: MSE vs n_estimators')"
   ]
  },
  {
   "cell_type": "code",
   "execution_count": 63,
   "id": "649cbaf7",
   "metadata": {},
   "outputs": [],
   "source": [
    "#Test response to 'min_samples_split' parameter (default = 2)\n",
    "\n",
    "test_values = [2, 6, 10, 14, 18, 22]\n",
    "test_values_mse = []\n",
    "\n",
    "for val in test_values:\n",
    "    \n",
    "    rf_regressor = RandomForestRegressor(n_estimators=100, min_samples_split=val, random_state=42)\n",
    "    rf_regressor.fit(X_train, y_train)\n",
    "    rf_pred_train = rf_regressor.predict(X_train)\n",
    "    \n",
    "    hold_mse = mean_squared_error(y_train, rf_pred_train)\n",
    "    \n",
    "    test_values_mse.append(hold_mse)"
   ]
  },
  {
   "cell_type": "code",
   "execution_count": 64,
   "id": "d79d3f2d",
   "metadata": {},
   "outputs": [
    {
     "name": "stdout",
     "output_type": "stream",
     "text": [
      "[5.990441836734696, 12.423861286139514, 19.423890264189602, 24.59864515698942, 31.20974486882407, 36.220703272560336]\n"
     ]
    }
   ],
   "source": [
    "print(test_values_mse)"
   ]
  },
  {
   "cell_type": "code",
   "execution_count": 65,
   "id": "d0eb41bc",
   "metadata": {},
   "outputs": [
    {
     "data": {
      "text/plain": [
       "Text(0.5, 1.0, 'Random Forest Regression: MSE vs min_samples_split')"
      ]
     },
     "execution_count": 65,
     "metadata": {},
     "output_type": "execute_result"
    },
    {
     "data": {
      "image/png": "[encoded data removed]",
      "text/plain": [
       "<Figure size 640x480 with 1 Axes>"
      ]
     },
     "metadata": {},
     "output_type": "display_data"
    }
   ],
   "source": [
    "plt.plot(test_values, test_values_mse, marker='.')\n",
    "plt.xlabel('Value of n_estimators')\n",
    "plt.ylabel('MSE')\n",
    "plt.title('Random Forest Regression: MSE vs min_samples_split')"
   ]
  },
  {
   "cell_type": "code",
   "execution_count": 68,
   "id": "e5be920a",
   "metadata": {},
   "outputs": [
    {
     "name": "stdout",
     "output_type": "stream",
     "text": [
      "{'min_samples_split': 10, 'n_estimators': 1000} 0.7186293456299551\n"
     ]
    }
   ],
   "source": [
    "#GridSearchCV\n",
    "kf = KFold(n_splits=5, shuffle=True, random_state=42)\n",
    "param_grid = {'n_estimators': [10, 50, 100, 200, 300, 500, 1000], 'min_samples_split': [2, 6, 10, 14, 18, 22]}\n",
    "rf_regressor = RandomForestRegressor(random_state=42)\n",
    "rf_cv = GridSearchCV(rf_regressor, param_grid, cv=kf)\n",
    "rf_cv.fit(X_train, y_train)\n",
    "print(rf_cv.best_params_, rf_cv.best_score_)"
   ]
  },
  {
   "cell_type": "code",
   "execution_count": 70,
   "id": "531b11a4",
   "metadata": {},
   "outputs": [],
   "source": [
    "#Run random forest regression w/ best parametes from GridSearchCV \n",
    "rf_regressor = RandomForestRegressor(n_estimators=1000, min_samples_split=10, random_state=42)\n",
    "rf_regressor.fit(X_train, y_train)\n",
    "rf_pred_train = rf_regressor.predict(X_train)\n",
    "rf_pred_test = rf_regressor.predict(X_test)"
   ]
  },
  {
   "cell_type": "code",
   "execution_count": 71,
   "id": "c488b07d",
   "metadata": {},
   "outputs": [
    {
     "name": "stdout",
     "output_type": "stream",
     "text": [
      "RF Train Mean Squared Error: 19.00148558843727\n",
      "RF Train Root Mean Squared Error: 4.359069348890571\n",
      "RF Train Mean Absolute Error: 3.4930119003741824\n",
      "RF Train R-squared: 0.8768508664821121\n"
     ]
    }
   ],
   "source": [
    "rf_mse_train = mean_squared_error(y_train, rf_pred_train)\n",
    "rf_rmse_train = mean_squared_error(y_train, rf_pred_train, squared=False)\n",
    "rf_mae_train = mean_absolute_error(y_train, rf_pred_train)\n",
    "rf_r2_train = r2_score(y_train, rf_pred_train)\n",
    "\n",
    "# Print the evaluation metrics\n",
    "print(\"RF Train Mean Squared Error:\", rf_mse_train)\n",
    "print(\"RF Train Root Mean Squared Error:\", rf_rmse_train)\n",
    "print(\"RF Train Mean Absolute Error:\", rf_mae_train)\n",
    "print(\"RF Train R-squared:\", rf_r2_train)"
   ]
  },
  {
   "cell_type": "code",
   "execution_count": 72,
   "id": "7a4e532a",
   "metadata": {},
   "outputs": [
    {
     "name": "stdout",
     "output_type": "stream",
     "text": [
      "RF Train Mean Squared Error: 24.442701754703737\n",
      "RF Train Root Mean Squared Error: 4.943956083411718\n",
      "RF Train Mean Absolute Error: 4.383910515099014\n",
      "RF Train R-squared: 0.7751807938945463\n"
     ]
    }
   ],
   "source": [
    "rf_mse_test = mean_squared_error(y_test, rf_pred_test)\n",
    "rf_rmse_test = mean_squared_error(y_test, rf_pred_test, squared=False)\n",
    "rf_mae_test = mean_absolute_error(y_test, rf_pred_test)\n",
    "rf_r2_test = r2_score(y_test, rf_pred_test)\n",
    "\n",
    "# Print the evaluation metrics\n",
    "print(\"RF Train Mean Squared Error:\", rf_mse_test)\n",
    "print(\"RF Train Root Mean Squared Error:\", rf_rmse_test)\n",
    "print(\"RF Train Mean Absolute Error:\", rf_mae_test)\n",
    "print(\"RF Train R-squared:\", rf_r2_test)"
   ]
  },
  {
   "cell_type": "code",
   "execution_count": 75,
   "id": "fa2176fa",
   "metadata": {},
   "outputs": [
    {
     "data": {
      "image/png": "[encoded data removed]",
      "text/plain": [
       "<Figure size 640x480 with 1 Axes>"
      ]
     },
     "metadata": {},
     "output_type": "display_data"
    },
    {
     "data": {
      "image/png": "[encoded data removed]",
      "text/plain": [
       "<Figure size 640x480 with 1 Axes>"
      ]
     },
     "metadata": {},
     "output_type": "display_data"
    }
   ],
   "source": [
    "#Training\n",
    "plt.plot(y_train, rf_pred_train, marker='.', linestyle='none')\n",
    "plt.plot([x for x in range(20,70)],[x for x in range(20,70)], color='red')\n",
    "\n",
    "plt.title(\"Best Random Forest: Training Data\")\n",
    "plt.xlabel(\"Actual\")\n",
    "plt.ylabel(\"Predicted\")\n",
    "\n",
    "plt.show()\n",
    "\n",
    "#Test\n",
    "plt.plot(y_test, rf_pred_test, marker='.', linestyle='none')\n",
    "plt.plot([x for x in range(20,70)],[x for x in range(20,70)], color='red')\n",
    "\n",
    "plt.title(\"Best Random Forest: Test Data\")\n",
    "plt.xlabel(\"Actual\")\n",
    "plt.ylabel(\"Predicted\")\n",
    "\n",
    "plt.show()"
   ]
  },
  {
   "cell_type": "code",
   "execution_count": null,
   "id": "4ee9d397",
   "metadata": {},
   "outputs": [],
   "source": []
  }
 ],
 "metadata": {
  "kernelspec": {
   "display_name": "Python 3 (ipykernel)",
   "language": "python",
   "name": "python3"
  },
  "language_info": {
   "codemirror_mode": {
    "name": "ipython",
    "version": 3
   },
   "file_extension": ".py",
   "mimetype": "text/x-python",
   "name": "python",
   "nbconvert_exporter": "python",
   "pygments_lexer": "ipython3",
   "version": "3.11.4"
  }
 },
 "nbformat": 4,
 "nbformat_minor": 5
}
